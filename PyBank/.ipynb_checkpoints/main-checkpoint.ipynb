{
 "cells": [
  {
   "cell_type": "markdown",
   "metadata": {},
   "source": [
    "In this activity, you are tasked with creating a Python script for analyzing the financial records of your company. You will be provided with a financial dataset in this file: [budget_data.csv](PyBank/Resources/budget_data.csv). This dataset is composed of two columns, Date and Profit/Losses. (Thankfully, your company has rather lax standards for accounting, so the records are simple.)\n",
    "\n",
    "Your task is to create a Python script that analyzes the records to calculate each of the following:\n",
    "\n",
    "* The total number of months included in the dataset.\n",
    "\n",
    "* The net total amount of Profit/Losses over the entire period.\n",
    "\n",
    "* The average of the changes in Profit/Losses over the entire period.\n",
    "\n",
    "* The greatest increase in profits (date and amount) over the entire period.\n",
    "\n",
    "* The greatest decrease in losses (date and amount) over the entire period.\n",
    "\n",
    "Your resulting analysis should look similar to the following:\n",
    "\n",
    "  ```text\n",
    "  Financial Analysis\n",
    "  ----------------------------\n",
    "  Total Months: 86\n",
    "  Total: $38382578\n",
    "  Average  Change: $-2315.12\n",
    "  Greatest Increase in Profits: Feb-2012 ($1926159)\n",
    "  Greatest Decrease in Profits: Sep-2013 ($-2196167)\n",
    "  ```\n"
   ]
  },
  {
   "cell_type": "code",
   "execution_count": 20,
   "metadata": {},
   "outputs": [],
   "source": [
    "from pathlib import Path\n",
    "import csv"
   ]
  },
  {
   "cell_type": "code",
   "execution_count": 21,
   "metadata": {},
   "outputs": [],
   "source": [
    "budget_csv = Path(\"../PyBank/budget_data.csv\")"
   ]
  },
  {
   "cell_type": "code",
   "execution_count": 22,
   "metadata": {},
   "outputs": [],
   "source": [
    "profitloss = []\n",
    "profitloss_dates = []\n",
    "profitloss_sum = 0\n",
    "max_pl = 0\n",
    "min_pl = 0\n",
    "summ = 0"
   ]
  },
  {
   "cell_type": "code",
   "execution_count": 23,
   "metadata": {},
   "outputs": [],
   "source": [
    "with open(budget_csv, 'r') as csvfile:\n",
    "    \n",
    "#     print(type(csvfile))\n",
    "    \n",
    "    csv_reader = csv.reader(csvfile, delimiter = ',')\n",
    "    \n",
    "#     print(type(csv_reader))\n",
    "    \n",
    "    header = next(csv_reader)\n",
    "#     print(f\"{header} <---- HEADER\")\n",
    "    \n",
    "    for row in csv_reader:\n",
    "#         print(row)\n",
    "        profitloss.append(int(row[1]))\n",
    "        profitloss_sum += int(row[1])\n",
    "        profitloss_dates.append(row[0])"
   ]
  },
  {
   "cell_type": "code",
   "execution_count": 24,
   "metadata": {},
   "outputs": [],
   "source": [
    "profitloss_change = []"
   ]
  },
  {
   "cell_type": "code",
   "execution_count": 25,
   "metadata": {},
   "outputs": [],
   "source": [
    "for i in range(1, len(profitloss)):\n",
    "    x = profitloss[i] - profitloss[i - 1]\n",
    "    profitloss_change.append(int(x))\n",
    "    \n",
    "# print(profitloss_change)"
   ]
  },
  {
   "cell_type": "code",
   "execution_count": 10,
   "metadata": {},
   "outputs": [],
   "source": [
    "# for i in range(len(profitloss_change)):\n",
    "#     summ += profitloss_change[i]\n",
    "#     average_change_profitloss = round((summ / (len(profitloss_change))), 2)\n",
    "\n",
    "# print(average_change_profitloss)"
   ]
  },
  {
   "cell_type": "code",
   "execution_count": 28,
   "metadata": {},
   "outputs": [
    {
     "ename": "TypeError",
     "evalue": "'int' object is not callable",
     "output_type": "error",
     "traceback": [
      "\u001b[0;31m---------------------------------------------------------------------------\u001b[0m",
      "\u001b[0;31mTypeError\u001b[0m                                 Traceback (most recent call last)",
      "\u001b[0;32m<ipython-input-28-074e3f0b9f61>\u001b[0m in \u001b[0;36m<module>\u001b[0;34m\u001b[0m\n\u001b[0;32m----> 1\u001b[0;31m \u001b[0ma\u001b[0m \u001b[0;34m=\u001b[0m \u001b[0msum\u001b[0m\u001b[0;34m(\u001b[0m\u001b[0mprofitloss_change\u001b[0m\u001b[0;34m)\u001b[0m\u001b[0;34m\u001b[0m\u001b[0;34m\u001b[0m\u001b[0m\n\u001b[0m\u001b[1;32m      2\u001b[0m \u001b[0;34m\u001b[0m\u001b[0m\n\u001b[1;32m      3\u001b[0m \u001b[0;34m\u001b[0m\u001b[0m\n",
      "\u001b[0;31mTypeError\u001b[0m: 'int' object is not callable"
     ]
    }
   ],
   "source": [
    "a = sum(profitloss_change)\n",
    "\n",
    "    "
   ]
  },
  {
   "cell_type": "code",
   "execution_count": 11,
   "metadata": {},
   "outputs": [
    {
     "name": "stdout",
     "output_type": "stream",
     "text": [
      "1170593 -1196225\n"
     ]
    }
   ],
   "source": [
    "for profloss in profitloss:\n",
    "    \n",
    "    if min_pl == 0:\n",
    "        max_pl == profloss\n",
    "        min_pl == profloss\n",
    "    if profloss > max_pl:\n",
    "        max_pl = profloss\n",
    "    elif profloss < min_pl:\n",
    "        min_pl = profloss\n",
    "        \n",
    "# print(max_pl, min_pl)"
   ]
  },
  {
   "cell_type": "code",
   "execution_count": 12,
   "metadata": {},
   "outputs": [],
   "source": [
    "max_pl_index = profitloss.index(max_pl)\n",
    "min_pl_index = profitloss.index(min_pl)\n",
    "max_pl_date = profitloss_dates[max_pl_index]\n",
    "min_pl_date = profitloss_dates[min_pl_index]"
   ]
  },
  {
   "cell_type": "code",
   "execution_count": 13,
   "metadata": {},
   "outputs": [
    {
     "name": "stdout",
     "output_type": "stream",
     "text": [
      "Financial Analysis\n",
      "----------------------------\n",
      "Total Months: 86 \n",
      "Total: $38382578\n",
      "Average Change: $-4630.24\n",
      "Greatest Increase in Profits: $1170593 on Feb-2012\n",
      "Greatest Decrease in Profits: $-1196225 on Sep-2013\n"
     ]
    }
   ],
   "source": [
    "print(f\"Financial Analysis\")\n",
    "print(f\"----------------------------\")\n",
    "print(f\"Total Months: {line_num} \")\n",
    "print(f\"Total: ${profitloss_sum}\")\n",
    "print(f\"Average Change: ${average_change_profitloss}\")\n",
    "print(f\"Greatest Increase in Profits: ${max_pl} on {max_pl_date}\")\n",
    "print(f\"Greatest Decrease in Profits: ${min_pl} on {min_pl_date}\")"
   ]
  }
 ],
 "metadata": {
  "kernelspec": {
   "display_name": "Python 3",
   "language": "python",
   "name": "python3"
  },
  "language_info": {
   "codemirror_mode": {
    "name": "ipython",
    "version": 3
   },
   "file_extension": ".py",
   "mimetype": "text/x-python",
   "name": "python",
   "nbconvert_exporter": "python",
   "pygments_lexer": "ipython3",
   "version": "3.8.5"
  }
 },
 "nbformat": 4,
 "nbformat_minor": 4
}
