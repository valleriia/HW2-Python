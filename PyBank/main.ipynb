{
 "cells": [
  {
   "cell_type": "markdown",
   "metadata": {},
   "source": [
    "The total number of months included in the dataset.\n",
    "The net total amount of Profit/Losses over the entire period.\n",
    "The average of the changes in Profit/Losses over the entire period.\n",
    "The greatest increase in profits (date and amount) over the entire period.\n",
    "The greatest decrease in losses (date and amount) over the entire period.\n",
    "\n",
    "Financial Analysis\n",
    "----------------------------\n",
    "Total Months: 86\n",
    "Total: $38382578\n",
    "Average  Change: $-2315.12\n",
    "Greatest Increase in Profits: Feb-2012 ($1926159)\n",
    "Greatest Decrease in Profits: Sep-2013 ($-2196167)\n"
   ]
  },
  {
   "cell_type": "code",
   "execution_count": null,
   "metadata": {},
   "outputs": [],
   "source": []
  }
 ],
 "metadata": {
  "kernelspec": {
   "display_name": "Python 3",
   "language": "python",
   "name": "python3"
  },
  "language_info": {
   "codemirror_mode": {
    "name": "ipython",
    "version": 3
   },
   "file_extension": ".py",
   "mimetype": "text/x-python",
   "name": "python",
   "nbconvert_exporter": "python",
   "pygments_lexer": "ipython3",
   "version": "3.8.5"
  }
 },
 "nbformat": 4,
 "nbformat_minor": 4
}
